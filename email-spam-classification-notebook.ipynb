{
 "cells": [
  {
   "cell_type": "markdown",
   "id": "e4cced61",
   "metadata": {
    "papermill": {
     "duration": 0.005952,
     "end_time": "2024-03-10T21:06:13.710096",
     "exception": false,
     "start_time": "2024-03-10T21:06:13.704144",
     "status": "completed"
    },
    "tags": []
   },
   "source": [
    "## Installing UCI Machine Learning Repository"
   ]
  },
  {
   "cell_type": "code",
   "execution_count": 1,
   "id": "1cdf63c5",
   "metadata": {
    "execution": {
     "iopub.execute_input": "2024-03-10T21:06:13.722902Z",
     "iopub.status.busy": "2024-03-10T21:06:13.722255Z",
     "iopub.status.idle": "2024-03-10T21:06:25.180309Z",
     "shell.execute_reply": "2024-03-10T21:06:25.179506Z"
    },
    "papermill": {
     "duration": 11.466793,
     "end_time": "2024-03-10T21:06:25.182287",
     "exception": false,
     "start_time": "2024-03-10T21:06:13.715494",
     "status": "completed"
    },
    "tags": []
   },
   "outputs": [
    {
     "name": "stdout",
     "output_type": "stream",
     "text": [
      "Collecting ucimlrepo\r\n",
      "  Downloading ucimlrepo-0.0.3-py3-none-any.whl.metadata (5.2 kB)\r\n",
      "Downloading ucimlrepo-0.0.3-py3-none-any.whl (7.0 kB)\r\n",
      "Installing collected packages: ucimlrepo\r\n",
      "Successfully installed ucimlrepo-0.0.3\r\n",
      "Note: you may need to restart the kernel to use updated packages.\n"
     ]
    }
   ],
   "source": [
    "pip install ucimlrepo\n"
   ]
  },
  {
   "cell_type": "markdown",
   "id": "aee8bb42",
   "metadata": {
    "papermill": {
     "duration": 0.005721,
     "end_time": "2024-03-10T21:06:25.194081",
     "exception": false,
     "start_time": "2024-03-10T21:06:25.188360",
     "status": "completed"
    },
    "tags": []
   },
   "source": [
    "## Importing neccesary packages"
   ]
  },
  {
   "cell_type": "code",
   "execution_count": 2,
   "id": "097f464f",
   "metadata": {
    "_cell_guid": "b1076dfc-b9ad-4769-8c92-a6c4dae69d19",
    "_uuid": "8f2839f25d086af736a60e9eeb907d3b93b6e0e5",
    "execution": {
     "iopub.execute_input": "2024-03-10T21:06:25.208424Z",
     "iopub.status.busy": "2024-03-10T21:06:25.208107Z",
     "iopub.status.idle": "2024-03-10T21:06:27.840849Z",
     "shell.execute_reply": "2024-03-10T21:06:27.839671Z"
    },
    "papermill": {
     "duration": 2.642116,
     "end_time": "2024-03-10T21:06:27.842978",
     "exception": false,
     "start_time": "2024-03-10T21:06:25.200862",
     "status": "completed"
    },
    "tags": []
   },
   "outputs": [],
   "source": [
    "from ucimlrepo import fetch_ucirepo\n",
    "import pandas as pd\n",
    "import numpy as np\n",
    "from sklearn.model_selection import train_test_split\n",
    "from sklearn.preprocessing import StandardScaler\n",
    "from sklearn.linear_model import LogisticRegression\n",
    "from sklearn.metrics import accuracy_score, classification_report, confusion_matrix\n",
    "from sklearn.naive_bayes import GaussianNB\n",
    "from sklearn.neighbors import KNeighborsClassifier\n",
    "from sklearn.svm import SVC\n",
    "from sklearn.tree import DecisionTreeClassifier\n",
    "from sklearn.ensemble import RandomForestClassifier\n",
    "import seaborn as sns\n",
    "import matplotlib.pyplot as plt"
   ]
  },
  {
   "cell_type": "markdown",
   "id": "48699355",
   "metadata": {
    "papermill": {
     "duration": 0.005637,
     "end_time": "2024-03-10T21:06:27.854856",
     "exception": false,
     "start_time": "2024-03-10T21:06:27.849219",
     "status": "completed"
    },
    "tags": []
   },
   "source": [
    "## Importing and Pre-processing the Data\n"
   ]
  },
  {
   "cell_type": "code",
   "execution_count": 3,
   "id": "fdd55f85",
   "metadata": {
    "execution": {
     "iopub.execute_input": "2024-03-10T21:06:27.868776Z",
     "iopub.status.busy": "2024-03-10T21:06:27.867639Z",
     "iopub.status.idle": "2024-03-10T21:06:28.864317Z",
     "shell.execute_reply": "2024-03-10T21:06:28.863099Z"
    },
    "papermill": {
     "duration": 1.005483,
     "end_time": "2024-03-10T21:06:28.866094",
     "exception": false,
     "start_time": "2024-03-10T21:06:27.860611",
     "status": "completed"
    },
    "tags": []
   },
   "outputs": [
    {
     "data": {
      "text/plain": [
       "array([1, 1, 1, ..., 0, 0, 0])"
      ]
     },
     "execution_count": 3,
     "metadata": {},
     "output_type": "execute_result"
    }
   ],
   "source": [
    "# fetch dataset\n",
    "spambase = fetch_ucirepo(id=94)\n",
    "\n",
    "# data (as pandas dataframes)\n",
    "X = spambase.data.features\n",
    "y = spambase.data.targets\n",
    "np.ravel(y)"
   ]
  },
  {
   "cell_type": "code",
   "execution_count": 4,
   "id": "d7c503f3",
   "metadata": {
    "execution": {
     "iopub.execute_input": "2024-03-10T21:06:28.880008Z",
     "iopub.status.busy": "2024-03-10T21:06:28.879223Z",
     "iopub.status.idle": "2024-03-10T21:06:28.909233Z",
     "shell.execute_reply": "2024-03-10T21:06:28.908417Z"
    },
    "papermill": {
     "duration": 0.038972,
     "end_time": "2024-03-10T21:06:28.911286",
     "exception": false,
     "start_time": "2024-03-10T21:06:28.872314",
     "status": "completed"
    },
    "tags": []
   },
   "outputs": [
    {
     "data": {
      "text/html": [
       "<div>\n",
       "<style scoped>\n",
       "    .dataframe tbody tr th:only-of-type {\n",
       "        vertical-align: middle;\n",
       "    }\n",
       "\n",
       "    .dataframe tbody tr th {\n",
       "        vertical-align: top;\n",
       "    }\n",
       "\n",
       "    .dataframe thead th {\n",
       "        text-align: right;\n",
       "    }\n",
       "</style>\n",
       "<table border=\"1\" class=\"dataframe\">\n",
       "  <thead>\n",
       "    <tr style=\"text-align: right;\">\n",
       "      <th></th>\n",
       "      <th>word_freq_make</th>\n",
       "      <th>word_freq_address</th>\n",
       "      <th>word_freq_all</th>\n",
       "      <th>word_freq_3d</th>\n",
       "      <th>word_freq_our</th>\n",
       "      <th>word_freq_over</th>\n",
       "      <th>word_freq_remove</th>\n",
       "      <th>word_freq_internet</th>\n",
       "      <th>word_freq_order</th>\n",
       "      <th>word_freq_mail</th>\n",
       "      <th>...</th>\n",
       "      <th>word_freq_conference</th>\n",
       "      <th>char_freq_;</th>\n",
       "      <th>char_freq_(</th>\n",
       "      <th>char_freq_[</th>\n",
       "      <th>char_freq_!</th>\n",
       "      <th>char_freq_$</th>\n",
       "      <th>char_freq_#</th>\n",
       "      <th>capital_run_length_average</th>\n",
       "      <th>capital_run_length_longest</th>\n",
       "      <th>capital_run_length_total</th>\n",
       "    </tr>\n",
       "  </thead>\n",
       "  <tbody>\n",
       "    <tr>\n",
       "      <th>0</th>\n",
       "      <td>0.00</td>\n",
       "      <td>0.64</td>\n",
       "      <td>0.64</td>\n",
       "      <td>0.0</td>\n",
       "      <td>0.32</td>\n",
       "      <td>0.00</td>\n",
       "      <td>0.00</td>\n",
       "      <td>0.00</td>\n",
       "      <td>0.00</td>\n",
       "      <td>0.00</td>\n",
       "      <td>...</td>\n",
       "      <td>0.0</td>\n",
       "      <td>0.00</td>\n",
       "      <td>0.000</td>\n",
       "      <td>0.0</td>\n",
       "      <td>0.778</td>\n",
       "      <td>0.000</td>\n",
       "      <td>0.000</td>\n",
       "      <td>3.756</td>\n",
       "      <td>61</td>\n",
       "      <td>278</td>\n",
       "    </tr>\n",
       "    <tr>\n",
       "      <th>1</th>\n",
       "      <td>0.21</td>\n",
       "      <td>0.28</td>\n",
       "      <td>0.50</td>\n",
       "      <td>0.0</td>\n",
       "      <td>0.14</td>\n",
       "      <td>0.28</td>\n",
       "      <td>0.21</td>\n",
       "      <td>0.07</td>\n",
       "      <td>0.00</td>\n",
       "      <td>0.94</td>\n",
       "      <td>...</td>\n",
       "      <td>0.0</td>\n",
       "      <td>0.00</td>\n",
       "      <td>0.132</td>\n",
       "      <td>0.0</td>\n",
       "      <td>0.372</td>\n",
       "      <td>0.180</td>\n",
       "      <td>0.048</td>\n",
       "      <td>5.114</td>\n",
       "      <td>101</td>\n",
       "      <td>1028</td>\n",
       "    </tr>\n",
       "    <tr>\n",
       "      <th>2</th>\n",
       "      <td>0.06</td>\n",
       "      <td>0.00</td>\n",
       "      <td>0.71</td>\n",
       "      <td>0.0</td>\n",
       "      <td>1.23</td>\n",
       "      <td>0.19</td>\n",
       "      <td>0.19</td>\n",
       "      <td>0.12</td>\n",
       "      <td>0.64</td>\n",
       "      <td>0.25</td>\n",
       "      <td>...</td>\n",
       "      <td>0.0</td>\n",
       "      <td>0.01</td>\n",
       "      <td>0.143</td>\n",
       "      <td>0.0</td>\n",
       "      <td>0.276</td>\n",
       "      <td>0.184</td>\n",
       "      <td>0.010</td>\n",
       "      <td>9.821</td>\n",
       "      <td>485</td>\n",
       "      <td>2259</td>\n",
       "    </tr>\n",
       "    <tr>\n",
       "      <th>3</th>\n",
       "      <td>0.00</td>\n",
       "      <td>0.00</td>\n",
       "      <td>0.00</td>\n",
       "      <td>0.0</td>\n",
       "      <td>0.63</td>\n",
       "      <td>0.00</td>\n",
       "      <td>0.31</td>\n",
       "      <td>0.63</td>\n",
       "      <td>0.31</td>\n",
       "      <td>0.63</td>\n",
       "      <td>...</td>\n",
       "      <td>0.0</td>\n",
       "      <td>0.00</td>\n",
       "      <td>0.137</td>\n",
       "      <td>0.0</td>\n",
       "      <td>0.137</td>\n",
       "      <td>0.000</td>\n",
       "      <td>0.000</td>\n",
       "      <td>3.537</td>\n",
       "      <td>40</td>\n",
       "      <td>191</td>\n",
       "    </tr>\n",
       "    <tr>\n",
       "      <th>4</th>\n",
       "      <td>0.00</td>\n",
       "      <td>0.00</td>\n",
       "      <td>0.00</td>\n",
       "      <td>0.0</td>\n",
       "      <td>0.63</td>\n",
       "      <td>0.00</td>\n",
       "      <td>0.31</td>\n",
       "      <td>0.63</td>\n",
       "      <td>0.31</td>\n",
       "      <td>0.63</td>\n",
       "      <td>...</td>\n",
       "      <td>0.0</td>\n",
       "      <td>0.00</td>\n",
       "      <td>0.135</td>\n",
       "      <td>0.0</td>\n",
       "      <td>0.135</td>\n",
       "      <td>0.000</td>\n",
       "      <td>0.000</td>\n",
       "      <td>3.537</td>\n",
       "      <td>40</td>\n",
       "      <td>191</td>\n",
       "    </tr>\n",
       "  </tbody>\n",
       "</table>\n",
       "<p>5 rows × 57 columns</p>\n",
       "</div>"
      ],
      "text/plain": [
       "   word_freq_make  word_freq_address  word_freq_all  word_freq_3d  \\\n",
       "0            0.00               0.64           0.64           0.0   \n",
       "1            0.21               0.28           0.50           0.0   \n",
       "2            0.06               0.00           0.71           0.0   \n",
       "3            0.00               0.00           0.00           0.0   \n",
       "4            0.00               0.00           0.00           0.0   \n",
       "\n",
       "   word_freq_our  word_freq_over  word_freq_remove  word_freq_internet  \\\n",
       "0           0.32            0.00              0.00                0.00   \n",
       "1           0.14            0.28              0.21                0.07   \n",
       "2           1.23            0.19              0.19                0.12   \n",
       "3           0.63            0.00              0.31                0.63   \n",
       "4           0.63            0.00              0.31                0.63   \n",
       "\n",
       "   word_freq_order  word_freq_mail  ...  word_freq_conference  char_freq_;  \\\n",
       "0             0.00            0.00  ...                   0.0         0.00   \n",
       "1             0.00            0.94  ...                   0.0         0.00   \n",
       "2             0.64            0.25  ...                   0.0         0.01   \n",
       "3             0.31            0.63  ...                   0.0         0.00   \n",
       "4             0.31            0.63  ...                   0.0         0.00   \n",
       "\n",
       "   char_freq_(  char_freq_[  char_freq_!  char_freq_$  char_freq_#  \\\n",
       "0        0.000          0.0        0.778        0.000        0.000   \n",
       "1        0.132          0.0        0.372        0.180        0.048   \n",
       "2        0.143          0.0        0.276        0.184        0.010   \n",
       "3        0.137          0.0        0.137        0.000        0.000   \n",
       "4        0.135          0.0        0.135        0.000        0.000   \n",
       "\n",
       "   capital_run_length_average  capital_run_length_longest  \\\n",
       "0                       3.756                          61   \n",
       "1                       5.114                         101   \n",
       "2                       9.821                         485   \n",
       "3                       3.537                          40   \n",
       "4                       3.537                          40   \n",
       "\n",
       "   capital_run_length_total  \n",
       "0                       278  \n",
       "1                      1028  \n",
       "2                      2259  \n",
       "3                       191  \n",
       "4                       191  \n",
       "\n",
       "[5 rows x 57 columns]"
      ]
     },
     "execution_count": 4,
     "metadata": {},
     "output_type": "execute_result"
    }
   ],
   "source": [
    "X.head()"
   ]
  },
  {
   "cell_type": "code",
   "execution_count": 5,
   "id": "93575627",
   "metadata": {
    "execution": {
     "iopub.execute_input": "2024-03-10T21:06:28.927399Z",
     "iopub.status.busy": "2024-03-10T21:06:28.927029Z",
     "iopub.status.idle": "2024-03-10T21:06:28.936672Z",
     "shell.execute_reply": "2024-03-10T21:06:28.935808Z"
    },
    "papermill": {
     "duration": 0.020599,
     "end_time": "2024-03-10T21:06:28.938407",
     "exception": false,
     "start_time": "2024-03-10T21:06:28.917808",
     "status": "completed"
    },
    "tags": []
   },
   "outputs": [],
   "source": [
    "#train-test Split \n",
    "# Using np.ravel() to ensure that y_train and y_test is a 1D array, which matches the expected shape for the target array in scikit-learn models.\n",
    "X_train,X_test, y_train, y_test = train_test_split(X,np.ravel(y), test_size=0.2, random_state=42)"
   ]
  },
  {
   "cell_type": "code",
   "execution_count": 6,
   "id": "d94ae3b2",
   "metadata": {
    "execution": {
     "iopub.execute_input": "2024-03-10T21:06:28.952641Z",
     "iopub.status.busy": "2024-03-10T21:06:28.952131Z",
     "iopub.status.idle": "2024-03-10T21:06:28.967522Z",
     "shell.execute_reply": "2024-03-10T21:06:28.966600Z"
    },
    "papermill": {
     "duration": 0.025238,
     "end_time": "2024-03-10T21:06:28.970100",
     "exception": false,
     "start_time": "2024-03-10T21:06:28.944862",
     "status": "completed"
    },
    "tags": []
   },
   "outputs": [],
   "source": [
    "#Standardisation \n",
    "scaler = StandardScaler()\n",
    "X_train_scaled = scaler.fit_transform(X_train)\n",
    "X_test_scaled = scaler.fit_transform(X_test)"
   ]
  },
  {
   "cell_type": "markdown",
   "id": "ed1ed757",
   "metadata": {
    "papermill": {
     "duration": 0.007209,
     "end_time": "2024-03-10T21:06:28.984127",
     "exception": false,
     "start_time": "2024-03-10T21:06:28.976918",
     "status": "completed"
    },
    "tags": []
   },
   "source": [
    "# Model Training and Evaluation"
   ]
  },
  {
   "cell_type": "markdown",
   "id": "3238cb4f",
   "metadata": {
    "papermill": {
     "duration": 0.005908,
     "end_time": "2024-03-10T21:06:28.996361",
     "exception": false,
     "start_time": "2024-03-10T21:06:28.990453",
     "status": "completed"
    },
    "tags": []
   },
   "source": [
    "## Logisitc Regression"
   ]
  },
  {
   "cell_type": "code",
   "execution_count": 7,
   "id": "01761ba0",
   "metadata": {
    "execution": {
     "iopub.execute_input": "2024-03-10T21:06:29.010068Z",
     "iopub.status.busy": "2024-03-10T21:06:29.009678Z",
     "iopub.status.idle": "2024-03-10T21:06:29.066731Z",
     "shell.execute_reply": "2024-03-10T21:06:29.065931Z"
    },
    "papermill": {
     "duration": 0.066255,
     "end_time": "2024-03-10T21:06:29.068692",
     "exception": false,
     "start_time": "2024-03-10T21:06:29.002437",
     "status": "completed"
    },
    "tags": []
   },
   "outputs": [
    {
     "name": "stdout",
     "output_type": "stream",
     "text": [
      "The Accuracy Achieved using Logistic Regression is: 91.31378935939196 %\n",
      "              precision    recall  f1-score   support\n",
      "\n",
      "           0       0.90      0.96      0.93       531\n",
      "           1       0.94      0.85      0.89       390\n",
      "\n",
      "    accuracy                           0.91       921\n",
      "   macro avg       0.92      0.90      0.91       921\n",
      "weighted avg       0.91      0.91      0.91       921\n",
      "\n"
     ]
    }
   ],
   "source": [
    "logistic_reg = LogisticRegression()\n",
    "logistic_reg.fit(X_train_scaled,(y_train))\n",
    "\n",
    "logistic_reg_pred = logistic_reg.predict(X_test_scaled)\n",
    "logistic_reg_accuracy = accuracy_score(y_test, logistic_reg_pred)\n",
    "print(\"The Accuracy Achieved using Logistic Regression is:\", logistic_reg_accuracy*100,\"%\",)\n",
    "print(classification_report(y_test,logistic_reg_pred))"
   ]
  },
  {
   "cell_type": "code",
   "execution_count": 8,
   "id": "02a5abbd",
   "metadata": {
    "execution": {
     "iopub.execute_input": "2024-03-10T21:06:29.086126Z",
     "iopub.status.busy": "2024-03-10T21:06:29.085141Z",
     "iopub.status.idle": "2024-03-10T21:06:29.229963Z",
     "shell.execute_reply": "2024-03-10T21:06:29.229079Z"
    },
    "papermill": {
     "duration": 0.155262,
     "end_time": "2024-03-10T21:06:29.231909",
     "exception": false,
     "start_time": "2024-03-10T21:06:29.076647",
     "status": "completed"
    },
    "tags": []
   },
   "outputs": [
    {
     "data": {
      "image/png": "[encoded data removed]",
      "text/plain": [
       "<Figure size 600x400 with 1 Axes>"
      ]
     },
     "metadata": {},
     "output_type": "display_data"
    }
   ],
   "source": [
    "logistic_reg_cm = confusion_matrix(y_test, logistic_reg_pred)\n",
    "plt.figure(figsize=(6,4))\n",
    "sns.heatmap(logistic_reg_cm, annot= True, fmt='d', cmap='Blues', cbar=False, )\n",
    "plt.title(\"Confusion Matrix for Logistic Regression\")\n",
    "plt.xlabel(\"Predicted\")\n",
    "plt.ylabel(\"Actual\")\n",
    "plt.show()"
   ]
  },
  {
   "cell_type": "markdown",
   "id": "dea18526",
   "metadata": {
    "papermill": {
     "duration": 0.006051,
     "end_time": "2024-03-10T21:06:29.245892",
     "exception": false,
     "start_time": "2024-03-10T21:06:29.239841",
     "status": "completed"
    },
    "tags": []
   },
   "source": [
    "## Naive Bayes"
   ]
  },
  {
   "cell_type": "code",
   "execution_count": 9,
   "id": "373ff029",
   "metadata": {
    "execution": {
     "iopub.execute_input": "2024-03-10T21:06:29.260303Z",
     "iopub.status.busy": "2024-03-10T21:06:29.259994Z",
     "iopub.status.idle": "2024-03-10T21:06:29.277993Z",
     "shell.execute_reply": "2024-03-10T21:06:29.276700Z"
    },
    "papermill": {
     "duration": 0.027245,
     "end_time": "2024-03-10T21:06:29.279686",
     "exception": false,
     "start_time": "2024-03-10T21:06:29.252441",
     "status": "completed"
    },
    "tags": []
   },
   "outputs": [
    {
     "name": "stdout",
     "output_type": "stream",
     "text": [
      "Accuracy of Naive Bayes Algorithm is 83.49619978284474 %\n",
      "              precision    recall  f1-score   support\n",
      "\n",
      "           0       0.94      0.77      0.84       531\n",
      "           1       0.74      0.93      0.83       390\n",
      "\n",
      "    accuracy                           0.83       921\n",
      "   macro avg       0.84      0.85      0.83       921\n",
      "weighted avg       0.85      0.83      0.84       921\n",
      "\n"
     ]
    }
   ],
   "source": [
    "naive_bayes = GaussianNB()\n",
    "naive_bayes.fit(X_train_scaled, y_train)\n",
    "\n",
    "naive_bayes_pred = naive_bayes.predict(X_test_scaled)\n",
    "naive_bayes_accuracy = accuracy_score(y_test, naive_bayes_pred)\n",
    "print(\"Accuracy of Naive Bayes Algorithm is\",naive_bayes_accuracy*100,\"%\")\n",
    "print(classification_report(y_test,naive_bayes_pred))"
   ]
  },
  {
   "cell_type": "code",
   "execution_count": 10,
   "id": "aeddc8ef",
   "metadata": {
    "execution": {
     "iopub.execute_input": "2024-03-10T21:06:29.294367Z",
     "iopub.status.busy": "2024-03-10T21:06:29.293607Z",
     "iopub.status.idle": "2024-03-10T21:06:29.399277Z",
     "shell.execute_reply": "2024-03-10T21:06:29.398373Z"
    },
    "papermill": {
     "duration": 0.114983,
     "end_time": "2024-03-10T21:06:29.401261",
     "exception": false,
     "start_time": "2024-03-10T21:06:29.286278",
     "status": "completed"
    },
    "tags": []
   },
   "outputs": [
    {
     "data": {
      "image/png": "[encoded data removed]",
      "text/plain": [
       "<Figure size 600x400 with 1 Axes>"
      ]
     },
     "metadata": {},
     "output_type": "display_data"
    }
   ],
   "source": [
    "naive_bayes_cm = confusion_matrix(y_test, naive_bayes_pred)\n",
    "plt.figure(figsize=(6,4))\n",
    "sns.heatmap(naive_bayes_cm, annot=True, fmt='d', cmap='Blues', cbar=False)\n",
    "plt.title(\"Confusion Matrix for Naive Bayes\")\n",
    "plt.xlabel(\"Predicted\")\n",
    "plt.ylabel(\"Actual\")\n",
    "plt.show()"
   ]
  },
  {
   "cell_type": "markdown",
   "id": "eb1509de",
   "metadata": {
    "papermill": {
     "duration": 0.008407,
     "end_time": "2024-03-10T21:06:29.418750",
     "exception": false,
     "start_time": "2024-03-10T21:06:29.410343",
     "status": "completed"
    },
    "tags": []
   },
   "source": [
    "## K-Nearest Neighbors"
   ]
  },
  {
   "cell_type": "code",
   "execution_count": 11,
   "id": "26fb60af",
   "metadata": {
    "execution": {
     "iopub.execute_input": "2024-03-10T21:06:29.437159Z",
     "iopub.status.busy": "2024-03-10T21:06:29.436821Z",
     "iopub.status.idle": "2024-03-10T21:06:29.552338Z",
     "shell.execute_reply": "2024-03-10T21:06:29.551262Z"
    },
    "papermill": {
     "duration": 0.126944,
     "end_time": "2024-03-10T21:06:29.554310",
     "exception": false,
     "start_time": "2024-03-10T21:06:29.427366",
     "status": "completed"
    },
    "tags": []
   },
   "outputs": [
    {
     "name": "stdout",
     "output_type": "stream",
     "text": [
      "Accuracy for K-Nearest Neighbors Algorithm is: 88.70792616720955 %\n",
      "              precision    recall  f1-score   support\n",
      "\n",
      "           0       0.86      0.96      0.91       531\n",
      "           1       0.94      0.78      0.85       390\n",
      "\n",
      "    accuracy                           0.89       921\n",
      "   macro avg       0.90      0.87      0.88       921\n",
      "weighted avg       0.89      0.89      0.89       921\n",
      "\n"
     ]
    }
   ],
   "source": [
    "knn = KNeighborsClassifier(n_neighbors=2)\n",
    "knn.fit(X_train_scaled, y_train)\n",
    "\n",
    "knn_pred = knn.predict(X_test_scaled)\n",
    "knn_accuracy = accuracy_score(y_test, knn_pred)\n",
    "print(\"Accuracy for K-Nearest Neighbors Algorithm is:\", knn_accuracy*100,\"%\")\n",
    "print(classification_report(y_test,knn_pred))"
   ]
  },
  {
   "cell_type": "code",
   "execution_count": 12,
   "id": "615e190f",
   "metadata": {
    "execution": {
     "iopub.execute_input": "2024-03-10T21:06:29.569972Z",
     "iopub.status.busy": "2024-03-10T21:06:29.569599Z",
     "iopub.status.idle": "2024-03-10T21:06:29.683522Z",
     "shell.execute_reply": "2024-03-10T21:06:29.682722Z"
    },
    "papermill": {
     "duration": 0.124861,
     "end_time": "2024-03-10T21:06:29.686326",
     "exception": false,
     "start_time": "2024-03-10T21:06:29.561465",
     "status": "completed"
    },
    "tags": []
   },
   "outputs": [
    {
     "data": {
      "image/png": "[encoded data removed]",
      "text/plain": [
       "<Figure size 600x400 with 1 Axes>"
      ]
     },
     "metadata": {},
     "output_type": "display_data"
    }
   ],
   "source": [
    "knn_cm = confusion_matrix(y_test,knn_pred)\n",
    "plt.figure(figsize=(6,4))\n",
    "sns.heatmap(knn_cm, annot=True, fmt='d',cmap=\"Blues\",cbar=False)\n",
    "plt.title(\"Confusion Matrix for K-Nearest Neighbor\")\n",
    "plt.xlabel(\"Predicted\")\n",
    "plt.ylabel(\"Actual\")\n",
    "plt.show()"
   ]
  },
  {
   "cell_type": "markdown",
   "id": "40c3c070",
   "metadata": {
    "papermill": {
     "duration": 0.008622,
     "end_time": "2024-03-10T21:06:29.704906",
     "exception": false,
     "start_time": "2024-03-10T21:06:29.696284",
     "status": "completed"
    },
    "tags": []
   },
   "source": [
    "## Support Vector Machine"
   ]
  },
  {
   "cell_type": "code",
   "execution_count": 13,
   "id": "96d82c70",
   "metadata": {
    "execution": {
     "iopub.execute_input": "2024-03-10T21:06:29.723211Z",
     "iopub.status.busy": "2024-03-10T21:06:29.722325Z",
     "iopub.status.idle": "2024-03-10T21:06:30.009265Z",
     "shell.execute_reply": "2024-03-10T21:06:30.007638Z"
    },
    "papermill": {
     "duration": 0.297668,
     "end_time": "2024-03-10T21:06:30.011510",
     "exception": false,
     "start_time": "2024-03-10T21:06:29.713842",
     "status": "completed"
    },
    "tags": []
   },
   "outputs": [
    {
     "name": "stdout",
     "output_type": "stream",
     "text": [
      "Accuracy for Support Vector Machine algorithm is: 0.9315960912052117 %\n",
      "              precision    recall  f1-score   support\n",
      "\n",
      "           0       0.92      0.97      0.94       531\n",
      "           1       0.95      0.88      0.92       390\n",
      "\n",
      "    accuracy                           0.93       921\n",
      "   macro avg       0.94      0.93      0.93       921\n",
      "weighted avg       0.93      0.93      0.93       921\n",
      "\n"
     ]
    }
   ],
   "source": [
    "svm = SVC()\n",
    "svm.fit(X_train_scaled,y_train)\n",
    "\n",
    "svm_pred = svm.predict(X_test_scaled)\n",
    "svm_accuracy = accuracy_score(y_test,svm_pred)\n",
    "print(\"Accuracy for Support Vector Machine algorithm is:\", svm_accuracy, \"%\")\n",
    "print(classification_report(y_test, svm_pred))"
   ]
  },
  {
   "cell_type": "code",
   "execution_count": 14,
   "id": "1c8ff97b",
   "metadata": {
    "execution": {
     "iopub.execute_input": "2024-03-10T21:06:30.027425Z",
     "iopub.status.busy": "2024-03-10T21:06:30.026955Z",
     "iopub.status.idle": "2024-03-10T21:06:30.137809Z",
     "shell.execute_reply": "2024-03-10T21:06:30.136981Z"
    },
    "papermill": {
     "duration": 0.121419,
     "end_time": "2024-03-10T21:06:30.140318",
     "exception": false,
     "start_time": "2024-03-10T21:06:30.018899",
     "status": "completed"
    },
    "tags": []
   },
   "outputs": [
    {
     "data": {
      "image/png": "[encoded data removed]",
      "text/plain": [
       "<Figure size 600x400 with 1 Axes>"
      ]
     },
     "metadata": {},
     "output_type": "display_data"
    }
   ],
   "source": [
    "svm_cm = confusion_matrix(y_test, svm_pred)\n",
    "plt.figure(figsize=(6,4))\n",
    "sns.heatmap(svm_cm, annot=True, fmt='d',cmap='Blues',cbar=False)\n",
    "plt.title(\"Confusion Matrix for SVM Classifier\")\n",
    "plt.xlabel(\"Predicted\")\n",
    "plt.ylabel(\"Actual\")\n",
    "plt.show()"
   ]
  },
  {
   "cell_type": "markdown",
   "id": "74565e14",
   "metadata": {
    "papermill": {
     "duration": 0.010059,
     "end_time": "2024-03-10T21:06:30.160807",
     "exception": false,
     "start_time": "2024-03-10T21:06:30.150748",
     "status": "completed"
    },
    "tags": []
   },
   "source": [
    "## Decision Tree Classifier"
   ]
  },
  {
   "cell_type": "code",
   "execution_count": 15,
   "id": "6279a7d3",
   "metadata": {
    "execution": {
     "iopub.execute_input": "2024-03-10T21:06:30.181005Z",
     "iopub.status.busy": "2024-03-10T21:06:30.179723Z",
     "iopub.status.idle": "2024-03-10T21:06:30.258091Z",
     "shell.execute_reply": "2024-03-10T21:06:30.257010Z"
    },
    "papermill": {
     "duration": 0.08997,
     "end_time": "2024-03-10T21:06:30.260630",
     "exception": false,
     "start_time": "2024-03-10T21:06:30.170660",
     "status": "completed"
    },
    "tags": []
   },
   "outputs": [
    {
     "name": "stdout",
     "output_type": "stream",
     "text": [
      "Accuracy Score for Decision Tree is:  71.00977198697068 %\n",
      "              precision    recall  f1-score   support\n",
      "\n",
      "           0       0.75      0.74      0.75       531\n",
      "           1       0.65      0.67      0.66       390\n",
      "\n",
      "    accuracy                           0.71       921\n",
      "   macro avg       0.70      0.70      0.70       921\n",
      "weighted avg       0.71      0.71      0.71       921\n",
      "\n"
     ]
    }
   ],
   "source": [
    "decision_tree = DecisionTreeClassifier()\n",
    "decision_tree.fit(X_train_scaled, y_train)\n",
    "\n",
    "decision_tree_pred = decision_tree.predict(X_test_scaled)\n",
    "decision_tree_accuracy = accuracy_score(y_test, decision_tree_pred)\n",
    "print(\"Accuracy Score for Decision Tree is: \",decision_tree_accuracy*100,\"%\")\n",
    "print(classification_report(y_test, decision_tree_pred))"
   ]
  },
  {
   "cell_type": "code",
   "execution_count": 16,
   "id": "fe72d423",
   "metadata": {
    "execution": {
     "iopub.execute_input": "2024-03-10T21:06:30.279774Z",
     "iopub.status.busy": "2024-03-10T21:06:30.279407Z",
     "iopub.status.idle": "2024-03-10T21:06:30.389277Z",
     "shell.execute_reply": "2024-03-10T21:06:30.388537Z"
    },
    "papermill": {
     "duration": 0.129116,
     "end_time": "2024-03-10T21:06:30.398242",
     "exception": false,
     "start_time": "2024-03-10T21:06:30.269126",
     "status": "completed"
    },
    "tags": []
   },
   "outputs": [
    {
     "data": {
      "image/png": "[encoded data removed]",
      "text/plain": [
       "<Figure size 600x400 with 1 Axes>"
      ]
     },
     "metadata": {},
     "output_type": "display_data"
    }
   ],
   "source": [
    "decision_tree_cm = confusion_matrix(y_test, decision_tree_pred)\n",
    "plt.figure(figsize=(6,4))\n",
    "sns.heatmap(decision_tree_cm, annot=True, fmt='d', cmap='Blues', cbar=False)\n",
    "plt.title(\"Confusion Matrix for Decision Tree Classifier\")\n",
    "plt.xlabel(\"Predicted\")\n",
    "plt.ylabel(\"Acutal\")\n",
    "plt.show()"
   ]
  },
  {
   "cell_type": "markdown",
   "id": "e236298b",
   "metadata": {
    "papermill": {
     "duration": 0.01055,
     "end_time": "2024-03-10T21:06:30.419763",
     "exception": false,
     "start_time": "2024-03-10T21:06:30.409213",
     "status": "completed"
    },
    "tags": []
   },
   "source": [
    "## Random Forest Classifier"
   ]
  },
  {
   "cell_type": "code",
   "execution_count": 17,
   "id": "68c17e75",
   "metadata": {
    "execution": {
     "iopub.execute_input": "2024-03-10T21:06:30.441896Z",
     "iopub.status.busy": "2024-03-10T21:06:30.441109Z",
     "iopub.status.idle": "2024-03-10T21:06:31.103278Z",
     "shell.execute_reply": "2024-03-10T21:06:31.101849Z"
    },
    "papermill": {
     "duration": 0.674914,
     "end_time": "2024-03-10T21:06:31.105686",
     "exception": false,
     "start_time": "2024-03-10T21:06:30.430772",
     "status": "completed"
    },
    "tags": []
   },
   "outputs": [
    {
     "name": "stdout",
     "output_type": "stream",
     "text": [
      "Accuracy score for Random Forest Classifier is:  91.96525515743757 %\n",
      "              precision    recall  f1-score   support\n",
      "\n",
      "           0       0.88      0.99      0.93       531\n",
      "           1       0.99      0.82      0.90       390\n",
      "\n",
      "    accuracy                           0.92       921\n",
      "   macro avg       0.94      0.91      0.92       921\n",
      "weighted avg       0.93      0.92      0.92       921\n",
      "\n"
     ]
    }
   ],
   "source": [
    "random_forest =  RandomForestClassifier()\n",
    "random_forest.fit(X_train_scaled, y_train)\n",
    "\n",
    "random_forest_pred = random_forest.predict(X_test_scaled)\n",
    "random_forest_accuracy = accuracy_score(y_test, random_forest_pred)\n",
    "print(\"Accuracy score for Random Forest Classifier is: \", random_forest_accuracy*100,\"%\")\n",
    "print(classification_report(y_test, random_forest_pred))"
   ]
  },
  {
   "cell_type": "code",
   "execution_count": 18,
   "id": "b033fd0b",
   "metadata": {
    "execution": {
     "iopub.execute_input": "2024-03-10T21:06:31.123714Z",
     "iopub.status.busy": "2024-03-10T21:06:31.122860Z",
     "iopub.status.idle": "2024-03-10T21:06:31.219002Z",
     "shell.execute_reply": "2024-03-10T21:06:31.218051Z"
    },
    "papermill": {
     "duration": 0.10735,
     "end_time": "2024-03-10T21:06:31.221111",
     "exception": false,
     "start_time": "2024-03-10T21:06:31.113761",
     "status": "completed"
    },
    "tags": []
   },
   "outputs": [
    {
     "data": {
      "image/png": "[encoded data removed]",
      "text/plain": [
       "<Figure size 600x400 with 1 Axes>"
      ]
     },
     "metadata": {},
     "output_type": "display_data"
    }
   ],
   "source": [
    "random_forest_cm = confusion_matrix(y_test, random_forest_pred)\n",
    "plt.figure(figsize=(6,4))\n",
    "sns.heatmap(random_forest_cm, annot=True, fmt='d', cmap='Blues', cbar=False)\n",
    "plt.title(\"Confusion Matrix for Random Forest Model\")\n",
    "plt.xlabel(\"Predicted\")\n",
    "plt.ylabel('Actual')\n",
    "plt.show()"
   ]
  },
  {
   "cell_type": "code",
   "execution_count": 19,
   "id": "029b83cc",
   "metadata": {
    "execution": {
     "iopub.execute_input": "2024-03-10T21:06:31.245216Z",
     "iopub.status.busy": "2024-03-10T21:06:31.244109Z",
     "iopub.status.idle": "2024-03-10T21:06:31.472285Z",
     "shell.execute_reply": "2024-03-10T21:06:31.471380Z"
    },
    "papermill": {
     "duration": 0.242082,
     "end_time": "2024-03-10T21:06:31.474210",
     "exception": false,
     "start_time": "2024-03-10T21:06:31.232128",
     "status": "completed"
    },
    "tags": []
   },
   "outputs": [
    {
     "data": {
      "image/png": "[encoded data removed]",
      "text/plain": [
       "<Figure size 1200x400 with 1 Axes>"
      ]
     },
     "metadata": {},
     "output_type": "display_data"
    }
   ],
   "source": [
    "model_names = [\"Logistic regression\", \"Naive Bayes\", \"KNN\", \"SVM\", \"Decision Tree\", \"Random Forest\"]\n",
    "accuracy_scores = [logistic_reg_accuracy, naive_bayes_accuracy, knn_accuracy, svm_accuracy, decision_tree_accuracy, random_forest_accuracy]\n",
    "plt.figure(figsize=(12,4))\n",
    "plt.plot(model_names, accuracy_scores, marker='o',linestyle ='-',)\n",
    "plt.title(\"Line chart for accuracy among different Machine learning algorithms\",pad=20, fontsize =15)\n",
    "plt.xlabel(\"Name of the algorithm\",fontsize=14, fontweight=\"bold\")\n",
    "plt.ylabel(\"Accuracy\", fontsize=12, fontweight='bold')\n",
    "\n",
    "for x, y in zip(model_names, accuracy_scores):\n",
    "    plt.annotate(f'{y:.2f}%', (x, y), textcoords=\"offset points\", xytext=(0,10), ha='center')\n",
    "\n",
    "plt.show()\n"
   ]
  },
  {
   "cell_type": "code",
   "execution_count": null,
   "id": "11540798",
   "metadata": {
    "papermill": {
     "duration": 0.008607,
     "end_time": "2024-03-10T21:06:31.491763",
     "exception": false,
     "start_time": "2024-03-10T21:06:31.483156",
     "status": "completed"
    },
    "tags": []
   },
   "outputs": [],
   "source": []
  }
 ],
 "metadata": {
  "kaggle": {
   "accelerator": "none",
   "dataSources": [],
   "dockerImageVersionId": 30664,
   "isGpuEnabled": false,
   "isInternetEnabled": true,
   "language": "python",
   "sourceType": "notebook"
  },
  "kernelspec": {
   "display_name": "Python 3",
   "language": "python",
   "name": "python3"
  },
  "language_info": {
   "codemirror_mode": {
    "name": "ipython",
    "version": 3
   },
   "file_extension": ".py",
   "mimetype": "text/x-python",
   "name": "python",
   "nbconvert_exporter": "python",
   "pygments_lexer": "ipython3",
   "version": "3.10.13"
  },
  "papermill": {
   "default_parameters": {},
   "duration": 20.629197,
   "end_time": "2024-03-10T21:06:32.020137",
   "environment_variables": {},
   "exception": null,
   "input_path": "__notebook__.ipynb",
   "output_path": "__notebook__.ipynb",
   "parameters": {},
   "start_time": "2024-03-10T21:06:11.390940",
   "version": "2.5.0"
  }
 },
 "nbformat": 4,
 "nbformat_minor": 5
}
