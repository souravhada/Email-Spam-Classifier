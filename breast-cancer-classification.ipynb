{
 "cells": [
  {
   "cell_type": "code",
   "execution_count": 1,
   "id": "15fcbb5c",
   "metadata": {
    "_cell_guid": "b0d6e650-dd24-49a6-ab85-0731a01d3e58",
    "_uuid": "6c87a58b-e924-4c42-a573-397ef26e6cc3",
    "collapsed": false,
    "execution": {
     "iopub.execute_input": "2024-03-19T18:07:16.578096Z",
     "iopub.status.busy": "2024-03-19T18:07:16.577306Z",
     "iopub.status.idle": "2024-03-19T18:07:19.464259Z",
     "shell.execute_reply": "2024-03-19T18:07:19.463087Z"
    },
    "jupyter": {
     "outputs_hidden": false
    },
    "papermill": {
     "duration": 2.897529,
     "end_time": "2024-03-19T18:07:19.467241",
     "exception": false,
     "start_time": "2024-03-19T18:07:16.569712",
     "status": "completed"
    },
    "tags": []
   },
   "outputs": [],
   "source": [
    "import pandas as pd\n",
    "import matplotlib.pyplot as plt\n",
    "import seaborn as sns\n",
    "from sklearn.datasets import load_breast_cancer\n",
    "from sklearn.model_selection import train_test_split\n",
    "from sklearn.tree import DecisionTreeClassifier\n",
    "from sklearn.ensemble import RandomForestClassifier, AdaBoostClassifier\n",
    "from sklearn.metrics import accuracy_score"
   ]
  },
  {
   "cell_type": "code",
   "execution_count": 2,
   "id": "4415333c",
   "metadata": {
    "execution": {
     "iopub.execute_input": "2024-03-19T18:07:19.480799Z",
     "iopub.status.busy": "2024-03-19T18:07:19.480211Z",
     "iopub.status.idle": "2024-03-19T18:07:19.502482Z",
     "shell.execute_reply": "2024-03-19T18:07:19.501292Z"
    },
    "papermill": {
     "duration": 0.03211,
     "end_time": "2024-03-19T18:07:19.505280",
     "exception": false,
     "start_time": "2024-03-19T18:07:19.473170",
     "status": "completed"
    },
    "tags": []
   },
   "outputs": [],
   "source": [
    "data= load_breast_cancer()\n",
    "X= data.data\n",
    "y= data.target\n",
    "feature_names= data.feature_names"
   ]
  },
  {
   "cell_type": "code",
   "execution_count": 3,
   "id": "3975b9f0",
   "metadata": {
    "execution": {
     "iopub.execute_input": "2024-03-19T18:07:19.517857Z",
     "iopub.status.busy": "2024-03-19T18:07:19.516721Z",
     "iopub.status.idle": "2024-03-19T18:07:19.526886Z",
     "shell.execute_reply": "2024-03-19T18:07:19.525676Z"
    },
    "papermill": {
     "duration": 0.019196,
     "end_time": "2024-03-19T18:07:19.529621",
     "exception": false,
     "start_time": "2024-03-19T18:07:19.510425",
     "status": "completed"
    },
    "tags": []
   },
   "outputs": [],
   "source": [
    "df=pd.DataFrame(X, columns = feature_names)\n",
    "df['target']=y"
   ]
  },
  {
   "cell_type": "code",
   "execution_count": 4,
   "id": "6ae5396c",
   "metadata": {
    "execution": {
     "iopub.execute_input": "2024-03-19T18:07:19.542023Z",
     "iopub.status.busy": "2024-03-19T18:07:19.541621Z",
     "iopub.status.idle": "2024-03-19T18:07:19.550040Z",
     "shell.execute_reply": "2024-03-19T18:07:19.548969Z"
    },
    "papermill": {
     "duration": 0.017459,
     "end_time": "2024-03-19T18:07:19.552470",
     "exception": false,
     "start_time": "2024-03-19T18:07:19.535011",
     "status": "completed"
    },
    "tags": []
   },
   "outputs": [
    {
     "data": {
      "text/plain": [
       "(569, 31)"
      ]
     },
     "execution_count": 4,
     "metadata": {},
     "output_type": "execute_result"
    }
   ],
   "source": [
    "df.shape"
   ]
  },
  {
   "cell_type": "code",
   "execution_count": 5,
   "id": "6eab1525",
   "metadata": {
    "execution": {
     "iopub.execute_input": "2024-03-19T18:07:19.565169Z",
     "iopub.status.busy": "2024-03-19T18:07:19.564426Z",
     "iopub.status.idle": "2024-03-19T18:07:19.580940Z",
     "shell.execute_reply": "2024-03-19T18:07:19.579855Z"
    },
    "papermill": {
     "duration": 0.025939,
     "end_time": "2024-03-19T18:07:19.583660",
     "exception": false,
     "start_time": "2024-03-19T18:07:19.557721",
     "status": "completed"
    },
    "tags": []
   },
   "outputs": [
    {
     "data": {
      "text/plain": [
       "target\n",
       "1    357\n",
       "0    212\n",
       "Name: count, dtype: int64"
      ]
     },
     "execution_count": 5,
     "metadata": {},
     "output_type": "execute_result"
    }
   ],
   "source": [
    "df['target'].value_counts()"
   ]
  },
  {
   "cell_type": "code",
   "execution_count": 6,
   "id": "3a3dc524",
   "metadata": {
    "execution": {
     "iopub.execute_input": "2024-03-19T18:07:19.596974Z",
     "iopub.status.busy": "2024-03-19T18:07:19.596231Z",
     "iopub.status.idle": "2024-03-19T18:07:19.606862Z",
     "shell.execute_reply": "2024-03-19T18:07:19.605435Z"
    },
    "papermill": {
     "duration": 0.020193,
     "end_time": "2024-03-19T18:07:19.609346",
     "exception": false,
     "start_time": "2024-03-19T18:07:19.589153",
     "status": "completed"
    },
    "tags": []
   },
   "outputs": [
    {
     "data": {
      "text/plain": [
       "mean radius                0\n",
       "mean texture               0\n",
       "mean perimeter             0\n",
       "mean area                  0\n",
       "mean smoothness            0\n",
       "mean compactness           0\n",
       "mean concavity             0\n",
       "mean concave points        0\n",
       "mean symmetry              0\n",
       "mean fractal dimension     0\n",
       "radius error               0\n",
       "texture error              0\n",
       "perimeter error            0\n",
       "area error                 0\n",
       "smoothness error           0\n",
       "compactness error          0\n",
       "concavity error            0\n",
       "concave points error       0\n",
       "symmetry error             0\n",
       "fractal dimension error    0\n",
       "worst radius               0\n",
       "worst texture              0\n",
       "worst perimeter            0\n",
       "worst area                 0\n",
       "worst smoothness           0\n",
       "worst compactness          0\n",
       "worst concavity            0\n",
       "worst concave points       0\n",
       "worst symmetry             0\n",
       "worst fractal dimension    0\n",
       "target                     0\n",
       "dtype: int64"
      ]
     },
     "execution_count": 6,
     "metadata": {},
     "output_type": "execute_result"
    }
   ],
   "source": [
    "df.isnull().sum()"
   ]
  },
  {
   "cell_type": "code",
   "execution_count": 7,
   "id": "6109e4c6",
   "metadata": {
    "execution": {
     "iopub.execute_input": "2024-03-19T18:07:19.622893Z",
     "iopub.status.busy": "2024-03-19T18:07:19.622139Z",
     "iopub.status.idle": "2024-03-19T18:07:19.629644Z",
     "shell.execute_reply": "2024-03-19T18:07:19.628817Z"
    },
    "papermill": {
     "duration": 0.016853,
     "end_time": "2024-03-19T18:07:19.631973",
     "exception": false,
     "start_time": "2024-03-19T18:07:19.615120",
     "status": "completed"
    },
    "tags": []
   },
   "outputs": [],
   "source": [
    "X_train, X_test, y_train, y_test = train_test_split (X,y, test_size =0.2, random_state=42)"
   ]
  },
  {
   "cell_type": "code",
   "execution_count": 8,
   "id": "29f42848",
   "metadata": {
    "execution": {
     "iopub.execute_input": "2024-03-19T18:07:19.645362Z",
     "iopub.status.busy": "2024-03-19T18:07:19.644632Z",
     "iopub.status.idle": "2024-03-19T18:07:19.649385Z",
     "shell.execute_reply": "2024-03-19T18:07:19.648565Z"
    },
    "papermill": {
     "duration": 0.013979,
     "end_time": "2024-03-19T18:07:19.651550",
     "exception": false,
     "start_time": "2024-03-19T18:07:19.637571",
     "status": "completed"
    },
    "tags": []
   },
   "outputs": [],
   "source": [
    "# Initialisng the Model\n",
    "decision_tree = DecisionTreeClassifier()\n",
    "random_forest = RandomForestClassifier(n_estimators=100)\n",
    "ada_boost = AdaBoostClassifier(n_estimators=100)"
   ]
  },
  {
   "cell_type": "code",
   "execution_count": 9,
   "id": "a0689a8c",
   "metadata": {
    "execution": {
     "iopub.execute_input": "2024-03-19T18:07:19.666027Z",
     "iopub.status.busy": "2024-03-19T18:07:19.665439Z",
     "iopub.status.idle": "2024-03-19T18:07:20.375458Z",
     "shell.execute_reply": "2024-03-19T18:07:20.374287Z"
    },
    "papermill": {
     "duration": 0.720367,
     "end_time": "2024-03-19T18:07:20.378041",
     "exception": false,
     "start_time": "2024-03-19T18:07:19.657674",
     "status": "completed"
    },
    "tags": []
   },
   "outputs": [
    {
     "data": {
      "text/html": [
       "<style>#sk-container-id-1 {color: black;background-color: white;}#sk-container-id-1 pre{padding: 0;}#sk-container-id-1 div.sk-toggleable {background-color: white;}#sk-container-id-1 label.sk-toggleable__label {cursor: pointer;display: block;width: 100%;margin-bottom: 0;padding: 0.3em;box-sizing: border-box;text-align: center;}#sk-container-id-1 label.sk-toggleable__label-arrow:before {content: \"▸\";float: left;margin-right: 0.25em;color: #696969;}#sk-container-id-1 label.sk-toggleable__label-arrow:hover:before {color: black;}#sk-container-id-1 div.sk-estimator:hover label.sk-toggleable__label-arrow:before {color: black;}#sk-container-id-1 div.sk-toggleable__content {max-height: 0;max-width: 0;overflow: hidden;text-align: left;background-color: #f0f8ff;}#sk-container-id-1 div.sk-toggleable__content pre {margin: 0.2em;color: black;border-radius: 0.25em;background-color: #f0f8ff;}#sk-container-id-1 input.sk-toggleable__control:checked~div.sk-toggleable__content {max-height: 200px;max-width: 100%;overflow: auto;}#sk-container-id-1 input.sk-toggleable__control:checked~label.sk-toggleable__label-arrow:before {content: \"▾\";}#sk-container-id-1 div.sk-estimator input.sk-toggleable__control:checked~label.sk-toggleable__label {background-color: #d4ebff;}#sk-container-id-1 div.sk-label input.sk-toggleable__control:checked~label.sk-toggleable__label {background-color: #d4ebff;}#sk-container-id-1 input.sk-hidden--visually {border: 0;clip: rect(1px 1px 1px 1px);clip: rect(1px, 1px, 1px, 1px);height: 1px;margin: -1px;overflow: hidden;padding: 0;position: absolute;width: 1px;}#sk-container-id-1 div.sk-estimator {font-family: monospace;background-color: #f0f8ff;border: 1px dotted black;border-radius: 0.25em;box-sizing: border-box;margin-bottom: 0.5em;}#sk-container-id-1 div.sk-estimator:hover {background-color: #d4ebff;}#sk-container-id-1 div.sk-parallel-item::after {content: \"\";width: 100%;border-bottom: 1px solid gray;flex-grow: 1;}#sk-container-id-1 div.sk-label:hover label.sk-toggleable__label {background-color: #d4ebff;}#sk-container-id-1 div.sk-serial::before {content: \"\";position: absolute;border-left: 1px solid gray;box-sizing: border-box;top: 0;bottom: 0;left: 50%;z-index: 0;}#sk-container-id-1 div.sk-serial {display: flex;flex-direction: column;align-items: center;background-color: white;padding-right: 0.2em;padding-left: 0.2em;position: relative;}#sk-container-id-1 div.sk-item {position: relative;z-index: 1;}#sk-container-id-1 div.sk-parallel {display: flex;align-items: stretch;justify-content: center;background-color: white;position: relative;}#sk-container-id-1 div.sk-item::before, #sk-container-id-1 div.sk-parallel-item::before {content: \"\";position: absolute;border-left: 1px solid gray;box-sizing: border-box;top: 0;bottom: 0;left: 50%;z-index: -1;}#sk-container-id-1 div.sk-parallel-item {display: flex;flex-direction: column;z-index: 1;position: relative;background-color: white;}#sk-container-id-1 div.sk-parallel-item:first-child::after {align-self: flex-end;width: 50%;}#sk-container-id-1 div.sk-parallel-item:last-child::after {align-self: flex-start;width: 50%;}#sk-container-id-1 div.sk-parallel-item:only-child::after {width: 0;}#sk-container-id-1 div.sk-dashed-wrapped {border: 1px dashed gray;margin: 0 0.4em 0.5em 0.4em;box-sizing: border-box;padding-bottom: 0.4em;background-color: white;}#sk-container-id-1 div.sk-label label {font-family: monospace;font-weight: bold;display: inline-block;line-height: 1.2em;}#sk-container-id-1 div.sk-label-container {text-align: center;}#sk-container-id-1 div.sk-container {/* jupyter's `normalize.less` sets `[hidden] { display: none; }` but bootstrap.min.css set `[hidden] { display: none !important; }` so we also need the `!important` here to be able to override the default hidden behavior on the sphinx rendered scikit-learn.org. See: https://github.com/scikit-learn/scikit-learn/issues/21755 */display: inline-block !important;position: relative;}#sk-container-id-1 div.sk-text-repr-fallback {display: none;}</style><div id=\"sk-container-id-1\" class=\"sk-top-container\"><div class=\"sk-text-repr-fallback\"><pre>AdaBoostClassifier(n_estimators=100)</pre><b>In a Jupyter environment, please rerun this cell to show the HTML representation or trust the notebook. <br />On GitHub, the HTML representation is unable to render, please try loading this page with nbviewer.org.</b></div><div class=\"sk-container\" hidden><div class=\"sk-item\"><div class=\"sk-estimator sk-toggleable\"><input class=\"sk-toggleable__control sk-hidden--visually\" id=\"sk-estimator-id-1\" type=\"checkbox\" checked><label for=\"sk-estimator-id-1\" class=\"sk-toggleable__label sk-toggleable__label-arrow\">AdaBoostClassifier</label><div class=\"sk-toggleable__content\"><pre>AdaBoostClassifier(n_estimators=100)</pre></div></div></div></div></div>"
      ],
      "text/plain": [
       "AdaBoostClassifier(n_estimators=100)"
      ]
     },
     "execution_count": 9,
     "metadata": {},
     "output_type": "execute_result"
    }
   ],
   "source": [
    "# Model Training\n",
    "decision_tree.fit(X_train, y_train)\n",
    "random_forest.fit(X_train, y_train)\n",
    "ada_boost.fit(X_train, y_train)"
   ]
  },
  {
   "cell_type": "code",
   "execution_count": 10,
   "id": "37a7a05c",
   "metadata": {
    "execution": {
     "iopub.execute_input": "2024-03-19T18:07:20.391873Z",
     "iopub.status.busy": "2024-03-19T18:07:20.391471Z",
     "iopub.status.idle": "2024-03-19T18:07:20.422774Z",
     "shell.execute_reply": "2024-03-19T18:07:20.421736Z"
    },
    "papermill": {
     "duration": 0.041486,
     "end_time": "2024-03-19T18:07:20.425527",
     "exception": false,
     "start_time": "2024-03-19T18:07:20.384041",
     "status": "completed"
    },
    "tags": []
   },
   "outputs": [],
   "source": [
    "# Making Predictions on the test data\n",
    "y_pred_dt = decision_tree.predict(X_test)\n",
    "y_pred_rf = random_forest.predict(X_test)\n",
    "y_pred_ab = ada_boost.predict(X_test)"
   ]
  },
  {
   "cell_type": "code",
   "execution_count": 11,
   "id": "6dc12f0f",
   "metadata": {
    "execution": {
     "iopub.execute_input": "2024-03-19T18:07:20.439300Z",
     "iopub.status.busy": "2024-03-19T18:07:20.438909Z",
     "iopub.status.idle": "2024-03-19T18:07:20.447978Z",
     "shell.execute_reply": "2024-03-19T18:07:20.446833Z"
    },
    "papermill": {
     "duration": 0.018911,
     "end_time": "2024-03-19T18:07:20.450433",
     "exception": false,
     "start_time": "2024-03-19T18:07:20.431522",
     "status": "completed"
    },
    "tags": []
   },
   "outputs": [],
   "source": [
    "# Calculating accuracy for the algorithms\n",
    "accuracy_dt = accuracy_score(y_test, y_pred_dt)\n",
    "accuracy_rf = accuracy_score(y_test, y_pred_rf)\n",
    "accuracy_ab = accuracy_score(y_test, y_pred_ab)"
   ]
  },
  {
   "cell_type": "code",
   "execution_count": 12,
   "id": "8f06f924",
   "metadata": {
    "execution": {
     "iopub.execute_input": "2024-03-19T18:07:20.464523Z",
     "iopub.status.busy": "2024-03-19T18:07:20.463888Z",
     "iopub.status.idle": "2024-03-19T18:07:20.470790Z",
     "shell.execute_reply": "2024-03-19T18:07:20.469615Z"
    },
    "papermill": {
     "duration": 0.01721,
     "end_time": "2024-03-19T18:07:20.473915",
     "exception": false,
     "start_time": "2024-03-19T18:07:20.456705",
     "status": "completed"
    },
    "tags": []
   },
   "outputs": [
    {
     "name": "stdout",
     "output_type": "stream",
     "text": [
      "Accuracy score for Decision Tree Classifier is: 92.98%\n",
      "Accuracy score for Random Forest Classifier is: 96.49%\n",
      "Accuracy score for Ada Boost Classifier is: 97.37% \n"
     ]
    }
   ],
   "source": [
    "# Displaying the accuracy for the algorithms\n",
    "print(\"Accuracy score for Decision Tree Classifier is: {:.2f}%\".format(accuracy_dt*100))\n",
    "print(\"Accuracy score for Random Forest Classifier is: {:.2f}%\".format(accuracy_rf*100))\n",
    "print(\"Accuracy score for Ada Boost Classifier is: {:.2f}% \".format(accuracy_ab*100))"
   ]
  },
  {
   "cell_type": "code",
   "execution_count": null,
   "id": "e0650a1d",
   "metadata": {
    "papermill": {
     "duration": 0.005918,
     "end_time": "2024-03-19T18:07:20.486779",
     "exception": false,
     "start_time": "2024-03-19T18:07:20.480861",
     "status": "completed"
    },
    "tags": []
   },
   "outputs": [],
   "source": []
  }
 ],
 "metadata": {
  "kaggle": {
   "accelerator": "none",
   "dataSources": [],
   "dockerImageVersionId": 30664,
   "isGpuEnabled": false,
   "isInternetEnabled": true,
   "language": "python",
   "sourceType": "notebook"
  },
  "kernelspec": {
   "display_name": "Python 3",
   "language": "python",
   "name": "python3"
  },
  "language_info": {
   "codemirror_mode": {
    "name": "ipython",
    "version": 3
   },
   "file_extension": ".py",
   "mimetype": "text/x-python",
   "name": "python",
   "nbconvert_exporter": "python",
   "pygments_lexer": "ipython3",
   "version": "3.10.13"
  },
  "papermill": {
   "default_parameters": {},
   "duration": 7.513196,
   "end_time": "2024-03-19T18:07:21.114838",
   "environment_variables": {},
   "exception": null,
   "input_path": "__notebook__.ipynb",
   "output_path": "__notebook__.ipynb",
   "parameters": {},
   "start_time": "2024-03-19T18:07:13.601642",
   "version": "2.5.0"
  }
 },
 "nbformat": 4,
 "nbformat_minor": 5
}
