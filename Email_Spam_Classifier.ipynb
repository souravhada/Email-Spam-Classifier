{
  "nbformat": 4,
  "nbformat_minor": 0,
  "metadata": {
    "colab": {
      "provenance": []
    },
    "kernelspec": {
      "name": "python3",
      "display_name": "Python 3"
    },
    "language_info": {
      "name": "python"
    }
  },
  "cells": [
    {
      "cell_type": "code",
      "source": [
        "pip install ucimlrepo"
      ],
      "metadata": {
        "colab": {
          "base_uri": "https://localhost:8080/"
        },
        "id": "vye9u9eLk4ZQ",
        "outputId": "dc700a5e-9ffc-48a0-9d1b-99a3fa6b5d66"
      },
      "execution_count": 17,
      "outputs": [
        {
          "output_type": "stream",
          "name": "stdout",
          "text": [
            "Requirement already satisfied: ucimlrepo in /usr/local/lib/python3.10/dist-packages (0.0.3)\n"
          ]
        }
      ]
    },
    {
      "cell_type": "code",
      "source": [
        "from ucimlrepo import fetch_ucirepo\n",
        "\n",
        "# fetch dataset\n",
        "spambase = fetch_ucirepo(id=94)\n",
        "\n",
        "# data (as pandas dataframes)\n",
        "X = spambase.data.features\n",
        "y = spambase.data.targets\n",
        "\n",
        "# metadata\n",
        "print(spambase.metadata)\n",
        "\n",
        "# variable information\n",
        "print(spambase.variables)\n"
      ],
      "metadata": {
        "colab": {
          "base_uri": "https://localhost:8080/"
        },
        "id": "qv0SUJDzuT_o",
        "outputId": "dd97b514-253b-4e64-dd6b-691b2f13f21f"
      },
      "execution_count": 18,
      "outputs": [
        {
          "output_type": "stream",
          "name": "stdout",
          "text": [
            "{'uci_id': 94, 'name': 'Spambase', 'repository_url': 'https://archive.ics.uci.edu/dataset/94/spambase', 'data_url': 'https://archive.ics.uci.edu/static/public/94/data.csv', 'abstract': 'Classifying Email as Spam or Non-Spam', 'area': 'Computer Science', 'tasks': ['Classification'], 'characteristics': ['Multivariate'], 'num_instances': 4601, 'num_features': 57, 'feature_types': ['Integer', 'Real'], 'demographics': [], 'target_col': ['Class'], 'index_col': None, 'has_missing_values': 'no', 'missing_values_symbol': None, 'year_of_dataset_creation': 1999, 'last_updated': 'Mon Aug 28 2023', 'dataset_doi': '10.24432/C53G6X', 'creators': ['Mark Hopkins', 'Erik Reeber', 'George Forman', 'Jaap Suermondt'], 'intro_paper': None, 'additional_info': {'summary': 'The \"spam\" concept is diverse: advertisements for products/web sites, make money fast schemes, chain letters, pornography...\\n\\nThe classification task for this dataset is to determine whether a given email is spam or not.\\n\\t\\nOur collection of spam e-mails came from our postmaster and individuals who had filed spam.  Our collection of non-spam e-mails came from filed work and personal e-mails, and hence the word \\'george\\' and the area code \\'650\\' are indicators of non-spam.  These are useful when constructing a personalized spam filter.  One would either have to blind such non-spam indicators or get a very wide collection of non-spam to generate a general purpose spam filter.\\n\\nFor background on spam: Cranor, Lorrie F., LaMacchia, Brian A.  Spam!, Communications of the ACM, 41(8):74-83, 1998.\\n\\nTypical performance is around ~7% misclassification error. False positives (marking good mail as spam) are very undesirable.If we insist on zero false positives in the training/testing set, 20-25% of the spam passed through the filter. See also Hewlett-Packard Internal-only Technical Report. External version forthcoming. ', 'purpose': None, 'funded_by': None, 'instances_represent': 'Emails', 'recommended_data_splits': None, 'sensitive_data': None, 'preprocessing_description': None, 'variable_info': 'The last column of \\'spambase.data\\' denotes whether the e-mail was considered spam (1) or not (0), i.e. unsolicited commercial e-mail.  Most of the attributes indicate whether a particular word or character was frequently occuring in the e-mail.  The run-length attributes (55-57) measure the length of sequences of consecutive capital letters.  For the statistical measures of each attribute, see the end of this file.  Here are the definitions of the attributes:\\r\\n\\r\\n48 continuous real [0,100] attributes of type word_freq_WORD \\r\\n= percentage of words in the e-mail that match WORD, i.e. 100 * (number of times the WORD appears in the e-mail) / total number of words in e-mail.  A \"word\" in this case is any string of alphanumeric characters bounded by non-alphanumeric characters or end-of-string.\\r\\n\\r\\n6 continuous real [0,100] attributes of type char_freq_CHAR] \\r\\n= percentage of characters in the e-mail that match CHAR, i.e. 100 * (number of CHAR occurences) / total characters in e-mail\\r\\n\\r\\n1 continuous real [1,...] attribute of type capital_run_length_average \\r\\n= average length of uninterrupted sequences of capital letters\\r\\n\\r\\n1 continuous integer [1,...] attribute of type capital_run_length_longest \\r\\n= length of longest uninterrupted sequence of capital letters\\r\\n\\r\\n1 continuous integer [1,...] attribute of type capital_run_length_total \\r\\n= sum of length of uninterrupted sequences of capital letters \\r\\n= total number of capital letters in the e-mail\\r\\n\\r\\n1 nominal {0,1} class attribute of type spam\\r\\n= denotes whether the e-mail was considered spam (1) or not (0), i.e. unsolicited commercial e-mail.  \\r\\n', 'citation': None}}\n",
            "                          name     role        type demographic  \\\n",
            "0               word_freq_make  Feature  Continuous        None   \n",
            "1            word_freq_address  Feature  Continuous        None   \n",
            "2                word_freq_all  Feature  Continuous        None   \n",
            "3                 word_freq_3d  Feature  Continuous        None   \n",
            "4                word_freq_our  Feature  Continuous        None   \n",
            "5               word_freq_over  Feature  Continuous        None   \n",
            "6             word_freq_remove  Feature  Continuous        None   \n",
            "7           word_freq_internet  Feature  Continuous        None   \n",
            "8              word_freq_order  Feature  Continuous        None   \n",
            "9               word_freq_mail  Feature  Continuous        None   \n",
            "10           word_freq_receive  Feature  Continuous        None   \n",
            "11              word_freq_will  Feature  Continuous        None   \n",
            "12            word_freq_people  Feature  Continuous        None   \n",
            "13            word_freq_report  Feature  Continuous        None   \n",
            "14         word_freq_addresses  Feature  Continuous        None   \n",
            "15              word_freq_free  Feature  Continuous        None   \n",
            "16          word_freq_business  Feature  Continuous        None   \n",
            "17             word_freq_email  Feature  Continuous        None   \n",
            "18               word_freq_you  Feature  Continuous        None   \n",
            "19            word_freq_credit  Feature  Continuous        None   \n",
            "20              word_freq_your  Feature  Continuous        None   \n",
            "21              word_freq_font  Feature  Continuous        None   \n",
            "22               word_freq_000  Feature  Continuous        None   \n",
            "23             word_freq_money  Feature  Continuous        None   \n",
            "24                word_freq_hp  Feature  Continuous        None   \n",
            "25               word_freq_hpl  Feature  Continuous        None   \n",
            "26            word_freq_george  Feature  Continuous        None   \n",
            "27               word_freq_650  Feature  Continuous        None   \n",
            "28               word_freq_lab  Feature  Continuous        None   \n",
            "29              word_freq_labs  Feature  Continuous        None   \n",
            "30            word_freq_telnet  Feature  Continuous        None   \n",
            "31               word_freq_857  Feature  Continuous        None   \n",
            "32              word_freq_data  Feature  Continuous        None   \n",
            "33               word_freq_415  Feature  Continuous        None   \n",
            "34                word_freq_85  Feature  Continuous        None   \n",
            "35        word_freq_technology  Feature  Continuous        None   \n",
            "36              word_freq_1999  Feature  Continuous        None   \n",
            "37             word_freq_parts  Feature  Continuous        None   \n",
            "38                word_freq_pm  Feature  Continuous        None   \n",
            "39            word_freq_direct  Feature  Continuous        None   \n",
            "40                word_freq_cs  Feature  Continuous        None   \n",
            "41           word_freq_meeting  Feature  Continuous        None   \n",
            "42          word_freq_original  Feature  Continuous        None   \n",
            "43           word_freq_project  Feature  Continuous        None   \n",
            "44                word_freq_re  Feature  Continuous        None   \n",
            "45               word_freq_edu  Feature  Continuous        None   \n",
            "46             word_freq_table  Feature  Continuous        None   \n",
            "47        word_freq_conference  Feature  Continuous        None   \n",
            "48                 char_freq_;  Feature  Continuous        None   \n",
            "49                 char_freq_(  Feature  Continuous        None   \n",
            "50                 char_freq_[  Feature  Continuous        None   \n",
            "51                 char_freq_!  Feature  Continuous        None   \n",
            "52                 char_freq_$  Feature  Continuous        None   \n",
            "53                 char_freq_#  Feature  Continuous        None   \n",
            "54  capital_run_length_average  Feature  Continuous        None   \n",
            "55  capital_run_length_longest  Feature  Continuous        None   \n",
            "56    capital_run_length_total  Feature  Continuous        None   \n",
            "57                       Class   Target      Binary        None   \n",
            "\n",
            "                 description units missing_values  \n",
            "0                       None  None             no  \n",
            "1                       None  None             no  \n",
            "2                       None  None             no  \n",
            "3                       None  None             no  \n",
            "4                       None  None             no  \n",
            "5                       None  None             no  \n",
            "6                       None  None             no  \n",
            "7                       None  None             no  \n",
            "8                       None  None             no  \n",
            "9                       None  None             no  \n",
            "10                      None  None             no  \n",
            "11                      None  None             no  \n",
            "12                      None  None             no  \n",
            "13                      None  None             no  \n",
            "14                      None  None             no  \n",
            "15                      None  None             no  \n",
            "16                      None  None             no  \n",
            "17                      None  None             no  \n",
            "18                      None  None             no  \n",
            "19                      None  None             no  \n",
            "20                      None  None             no  \n",
            "21                      None  None             no  \n",
            "22                      None  None             no  \n",
            "23                      None  None             no  \n",
            "24                      None  None             no  \n",
            "25                      None  None             no  \n",
            "26                      None  None             no  \n",
            "27                      None  None             no  \n",
            "28                      None  None             no  \n",
            "29                      None  None             no  \n",
            "30                      None  None             no  \n",
            "31                      None  None             no  \n",
            "32                      None  None             no  \n",
            "33                      None  None             no  \n",
            "34                      None  None             no  \n",
            "35                      None  None             no  \n",
            "36                      None  None             no  \n",
            "37                      None  None             no  \n",
            "38                      None  None             no  \n",
            "39                      None  None             no  \n",
            "40                      None  None             no  \n",
            "41                      None  None             no  \n",
            "42                      None  None             no  \n",
            "43                      None  None             no  \n",
            "44                      None  None             no  \n",
            "45                      None  None             no  \n",
            "46                      None  None             no  \n",
            "47                      None  None             no  \n",
            "48                      None  None             no  \n",
            "49                      None  None             no  \n",
            "50                      None  None             no  \n",
            "51                      None  None             no  \n",
            "52                      None  None             no  \n",
            "53                      None  None             no  \n",
            "54                      None  None             no  \n",
            "55                      None  None             no  \n",
            "56                      None  None             no  \n",
            "57  spam (1) or not spam (0)  None             no  \n"
          ]
        }
      ]
    },
    {
      "cell_type": "code",
      "source": [],
      "metadata": {
        "id": "oO4ftzdF179W"
      },
      "execution_count": null,
      "outputs": []
    },
    {
      "cell_type": "code",
      "source": [
        "import pandas as pd\n",
        "from sklearn.model_selection import train_test_split\n",
        "from sklearn.preprocessing import StandardScaler\n",
        "\n",
        "# Convert to DataFrame for EDA\n",
        "spambase_df = pd.DataFrame(X, columns=spambase.variables)\n",
        "spambase_df['target'] = y\n",
        "\n",
        "\n",
        "\n",
        "\n"
      ],
      "metadata": {
        "id": "ccitDjJjypV9"
      },
      "execution_count": 19,
      "outputs": []
    },
    {
      "cell_type": "code",
      "source": [
        "# Split data into train and test sets\n",
        "X_train, X_test, y_train, y_test = train_test_split(X, y, test_size=0.2, random_state=42)\n",
        "\n",
        "# Preprocessing: Standardize features\n",
        "scaler = StandardScaler()\n",
        "X_train_scaled = scaler.fit_transform(X_train)\n",
        "X_test_scaled = scaler.transform(X_test)"
      ],
      "metadata": {
        "id": "xClOs04KzHV-"
      },
      "execution_count": 20,
      "outputs": []
    },
    {
      "cell_type": "code",
      "source": [
        "from sklearn.linear_model import LogisticRegression\n",
        "from sklearn.metrics import accuracy_score, classification_report\n",
        "\n",
        "# Model training: Logistic Regression\n",
        "logistic_reg = LogisticRegression(max_iter=1000)\n",
        "logistic_reg.fit(X_train_scaled, y_train)\n",
        "\n",
        "# Model evaluation: Logistic Regression\n",
        "logistic_reg_pred = logistic_reg.predict(X_test_scaled)\n",
        "logistic_reg_accuracy = accuracy_score(y_test, logistic_reg_pred)\n",
        "print(\"Logistic Regression Accuracy:\", logistic_reg_accuracy)\n",
        "print(\"Logistic Regression Classification Report:\")\n",
        "print(classification_report(y_test, logistic_reg_pred))\n"
      ],
      "metadata": {
        "colab": {
          "base_uri": "https://localhost:8080/"
        },
        "id": "KOmE6nY5zPY1",
        "outputId": "77bd96f3-513d-4b9a-b851-8c67ed346a9f"
      },
      "execution_count": 21,
      "outputs": [
        {
          "output_type": "stream",
          "name": "stdout",
          "text": [
            "Logistic Regression Accuracy: 0.9196525515743756\n",
            "Logistic Regression Classification Report:\n",
            "              precision    recall  f1-score   support\n",
            "\n",
            "           0       0.91      0.95      0.93       531\n",
            "           1       0.93      0.87      0.90       390\n",
            "\n",
            "    accuracy                           0.92       921\n",
            "   macro avg       0.92      0.91      0.92       921\n",
            "weighted avg       0.92      0.92      0.92       921\n",
            "\n"
          ]
        },
        {
          "output_type": "stream",
          "name": "stderr",
          "text": [
            "/usr/local/lib/python3.10/dist-packages/sklearn/utils/validation.py:1143: DataConversionWarning: A column-vector y was passed when a 1d array was expected. Please change the shape of y to (n_samples, ), for example using ravel().\n",
            "  y = column_or_1d(y, warn=True)\n"
          ]
        }
      ]
    },
    {
      "cell_type": "code",
      "source": [
        "from sklearn.naive_bayes import GaussianNB\n",
        "\n",
        "# Model training: Naive Bayes\n",
        "naive_bayes = GaussianNB()\n",
        "naive_bayes.fit(X_train, y_train)\n",
        "\n",
        "# Model evaluation: Naive Bayes\n",
        "naive_bayes_pred = naive_bayes.predict(X_test)\n",
        "naive_bayes_accuracy = accuracy_score(y_test, naive_bayes_pred)\n",
        "print(\"\\nNaive Bayes Accuracy:\", naive_bayes_accuracy)\n",
        "print(\"Naive Bayes Classification Report:\")\n",
        "print(classification_report(y_test, naive_bayes_pred))\n"
      ],
      "metadata": {
        "colab": {
          "base_uri": "https://localhost:8080/"
        },
        "id": "FtddWlQ7zSrF",
        "outputId": "875b6a44-09a5-4225-e98e-24c5be305ce7"
      },
      "execution_count": 22,
      "outputs": [
        {
          "output_type": "stream",
          "name": "stdout",
          "text": [
            "\n",
            "Naive Bayes Accuracy: 0.8208469055374593\n",
            "Naive Bayes Classification Report:\n",
            "              precision    recall  f1-score   support\n",
            "\n",
            "           0       0.95      0.73      0.82       531\n",
            "           1       0.72      0.95      0.82       390\n",
            "\n",
            "    accuracy                           0.82       921\n",
            "   macro avg       0.83      0.84      0.82       921\n",
            "weighted avg       0.85      0.82      0.82       921\n",
            "\n"
          ]
        },
        {
          "output_type": "stream",
          "name": "stderr",
          "text": [
            "/usr/local/lib/python3.10/dist-packages/sklearn/utils/validation.py:1143: DataConversionWarning: A column-vector y was passed when a 1d array was expected. Please change the shape of y to (n_samples, ), for example using ravel().\n",
            "  y = column_or_1d(y, warn=True)\n"
          ]
        }
      ]
    },
    {
      "cell_type": "code",
      "source": [
        "from sklearn.neighbors import KNeighborsClassifier\n",
        "\n",
        "# Model training: KNN\n",
        "knn = KNeighborsClassifier(n_neighbors=5)\n",
        "knn.fit(X_train_scaled, y_train)\n",
        "\n",
        "# Model evaluation: KNN\n",
        "knn_pred = knn.predict(X_test_scaled)\n",
        "knn_accuracy = accuracy_score(y_test, knn_pred)\n",
        "print(\"\\nK-Nearest Neighbors (KNN) Accuracy:\", knn_accuracy)\n",
        "print(\"K-Nearest Neighbors (KNN) Classification Report:\")\n",
        "print(classification_report(y_test, knn_pred))\n"
      ],
      "metadata": {
        "colab": {
          "base_uri": "https://localhost:8080/"
        },
        "id": "O-AVdhnnza81",
        "outputId": "7320786d-1c0b-44ab-f1c2-e64773f4661b"
      },
      "execution_count": 23,
      "outputs": [
        {
          "output_type": "stream",
          "name": "stderr",
          "text": [
            "/usr/local/lib/python3.10/dist-packages/sklearn/neighbors/_classification.py:215: DataConversionWarning: A column-vector y was passed when a 1d array was expected. Please change the shape of y to (n_samples,), for example using ravel().\n",
            "  return self._fit(X, y)\n"
          ]
        },
        {
          "output_type": "stream",
          "name": "stdout",
          "text": [
            "\n",
            "K-Nearest Neighbors (KNN) Accuracy: 0.8935939196525515\n",
            "K-Nearest Neighbors (KNN) Classification Report:\n",
            "              precision    recall  f1-score   support\n",
            "\n",
            "           0       0.89      0.93      0.91       531\n",
            "           1       0.90      0.84      0.87       390\n",
            "\n",
            "    accuracy                           0.89       921\n",
            "   macro avg       0.89      0.89      0.89       921\n",
            "weighted avg       0.89      0.89      0.89       921\n",
            "\n"
          ]
        }
      ]
    },
    {
      "cell_type": "code",
      "source": [
        "from sklearn.svm import SVC\n",
        "\n",
        "# Model training: SVM\n",
        "svm_model = SVC()\n",
        "svm_model.fit(X_train_scaled, y_train)\n",
        "\n",
        "# Model evaluation: SVM\n",
        "svm_pred = svm_model.predict(X_test_scaled)\n",
        "svm_accuracy = accuracy_score(y_test, svm_pred)\n",
        "print(\"\\nSupport Vector Machine (SVM) Accuracy:\", svm_accuracy)\n",
        "print(\"Support Vector Machine (SVM) Classification Report:\")\n",
        "print(classification_report(y_test, svm_pred))\n"
      ],
      "metadata": {
        "colab": {
          "base_uri": "https://localhost:8080/"
        },
        "id": "xaGugDNozc8s",
        "outputId": "c4028034-926f-4ba7-8ba5-13e1b5e71026"
      },
      "execution_count": 24,
      "outputs": [
        {
          "output_type": "stream",
          "name": "stderr",
          "text": [
            "/usr/local/lib/python3.10/dist-packages/sklearn/utils/validation.py:1143: DataConversionWarning: A column-vector y was passed when a 1d array was expected. Please change the shape of y to (n_samples, ), for example using ravel().\n",
            "  y = column_or_1d(y, warn=True)\n"
          ]
        },
        {
          "output_type": "stream",
          "name": "stdout",
          "text": [
            "\n",
            "Support Vector Machine (SVM) Accuracy: 0.9348534201954397\n",
            "Support Vector Machine (SVM) Classification Report:\n",
            "              precision    recall  f1-score   support\n",
            "\n",
            "           0       0.92      0.97      0.94       531\n",
            "           1       0.95      0.89      0.92       390\n",
            "\n",
            "    accuracy                           0.93       921\n",
            "   macro avg       0.94      0.93      0.93       921\n",
            "weighted avg       0.94      0.93      0.93       921\n",
            "\n"
          ]
        }
      ]
    },
    {
      "cell_type": "code",
      "source": [
        "from sklearn.tree import DecisionTreeClassifier\n",
        "\n",
        "# Model training: Decision Trees\n",
        "decision_tree = DecisionTreeClassifier()\n",
        "decision_tree.fit(X_train_scaled, y_train)\n",
        "\n",
        "# Model evaluation: Decision Trees\n",
        "decision_tree_pred = decision_tree.predict(X_test_scaled)\n",
        "decision_tree_accuracy = accuracy_score(y_test, decision_tree_pred)\n",
        "print(\"\\nDecision Trees Accuracy:\", decision_tree_accuracy)\n",
        "print(\"Decision Trees Classification Report:\")\n",
        "print(classification_report(y_test, decision_tree_pred))\n"
      ],
      "metadata": {
        "colab": {
          "base_uri": "https://localhost:8080/"
        },
        "id": "PQj4dwFLzebl",
        "outputId": "2e18aaca-5f15-47eb-df62-1698b14d3c20"
      },
      "execution_count": 25,
      "outputs": [
        {
          "output_type": "stream",
          "name": "stdout",
          "text": [
            "\n",
            "Decision Trees Accuracy: 0.9001085776330076\n",
            "Decision Trees Classification Report:\n",
            "              precision    recall  f1-score   support\n",
            "\n",
            "           0       0.91      0.92      0.91       531\n",
            "           1       0.89      0.87      0.88       390\n",
            "\n",
            "    accuracy                           0.90       921\n",
            "   macro avg       0.90      0.90      0.90       921\n",
            "weighted avg       0.90      0.90      0.90       921\n",
            "\n"
          ]
        }
      ]
    },
    {
      "cell_type": "code",
      "source": [
        "from sklearn.metrics import confusion_matrix\n",
        "import seaborn as sns\n",
        "import matplotlib.pyplot as plt\n",
        "\n",
        "# Confusion Matrix: Logistic Regression\n",
        "logistic_reg_cm = confusion_matrix(y_test, logistic_reg_pred)\n",
        "plt.figure(figsize=(6, 4))\n",
        "sns.heatmap(logistic_reg_cm, annot=True, fmt='d', cmap='Blues', cbar=False)\n",
        "plt.title('Confusion Matrix - Logistic Regression')\n",
        "plt.xlabel('Predicted')\n",
        "plt.ylabel('Actual')\n",
        "plt.show()\n"
      ],
      "metadata": {
        "colab": {
          "base_uri": "https://localhost:8080/",
          "height": 410
        },
        "id": "rTBokHoSzf3l",
        "outputId": "f3e422b4-2536-4b72-9ad1-e8d492e41b2b"
      },
      "execution_count": 26,
      "outputs": [
        {
          "output_type": "display_data",
          "data": {
            "text/plain": [
              "<Figure size 600x400 with 1 Axes>"
            ],
            "image/png": "[encoded data removed]"
          },
          "metadata": {}
        }
      ]
    },
    {
      "cell_type": "code",
      "source": [
        "# Confusion Matrix: Naive Bayes\n",
        "naive_bayes_cm = confusion_matrix(y_test, naive_bayes_pred)\n",
        "plt.figure(figsize=(6, 4))\n",
        "sns.heatmap(naive_bayes_cm, annot=True, fmt='d', cmap='Blues', cbar=False)\n",
        "plt.title('Confusion Matrix - Naive Bayes')\n",
        "plt.xlabel('Predicted')\n",
        "plt.ylabel('Actual')\n",
        "plt.show()"
      ],
      "metadata": {
        "colab": {
          "base_uri": "https://localhost:8080/",
          "height": 410
        },
        "id": "VFWXG7dgzpOi",
        "outputId": "8283664b-0cc1-4cf4-c713-dc3939b3ac41"
      },
      "execution_count": 27,
      "outputs": [
        {
          "output_type": "display_data",
          "data": {
            "text/plain": [
              "<Figure size 600x400 with 1 Axes>"
            ],
            "image/png": "[encoded data removed]"
          },
          "metadata": {}
        }
      ]
    },
    {
      "cell_type": "code",
      "source": [
        "# Confusion Matrix: KNN\n",
        "knn_cm = confusion_matrix(y_test, knn_pred)\n",
        "plt.figure(figsize=(6, 4))\n",
        "sns.heatmap(knn_cm, annot=True, fmt='d', cmap='Blues', cbar=False)\n",
        "plt.title('Confusion Matrix - KNN')\n",
        "plt.xlabel('Predicted')\n",
        "plt.ylabel('Actual')\n",
        "plt.show()"
      ],
      "metadata": {
        "colab": {
          "base_uri": "https://localhost:8080/",
          "height": 410
        },
        "id": "PPJJAWm4zj89",
        "outputId": "36a293e6-f2ed-4c9e-8b36-133edc7d6ee4"
      },
      "execution_count": 28,
      "outputs": [
        {
          "output_type": "display_data",
          "data": {
            "text/plain": [
              "<Figure size 600x400 with 1 Axes>"
            ],
            "image/png": "[encoded data removed]"
          },
          "metadata": {}
        }
      ]
    },
    {
      "cell_type": "code",
      "source": [
        "# Confusion Matrix: SVM\n",
        "svm_cm = confusion_matrix(y_test, svm_pred)\n",
        "plt.figure(figsize=(6, 4))\n",
        "sns.heatmap(svm_cm, annot=True, fmt='d', cmap='Blues', cbar=False)\n",
        "plt.title('Confusion Matrix - SVM')\n",
        "plt.xlabel('Predicted')\n",
        "plt.ylabel('Actual')\n",
        "plt.show()"
      ],
      "metadata": {
        "colab": {
          "base_uri": "https://localhost:8080/",
          "height": 410
        },
        "id": "4z26AkH6ztyW",
        "outputId": "9c310024-7e49-4b2f-9495-e034308043f3"
      },
      "execution_count": 29,
      "outputs": [
        {
          "output_type": "display_data",
          "data": {
            "text/plain": [
              "<Figure size 600x400 with 1 Axes>"
            ],
            "image/png": "[encoded data removed]"
          },
          "metadata": {}
        }
      ]
    },
    {
      "cell_type": "code",
      "source": [
        "# Confusion Matrix: Decision Trees\n",
        "decision_tree_cm = confusion_matrix(y_test, decision_tree_pred)\n",
        "plt.figure(figsize=(6, 4))\n",
        "sns.heatmap(decision_tree_cm, annot=True, fmt='d', cmap='Blues', cbar=False)\n",
        "plt.title('Confusion Matrix - Decision Trees')\n",
        "plt.xlabel('Predicted')\n",
        "plt.ylabel('Actual')\n",
        "plt.show()"
      ],
      "metadata": {
        "colab": {
          "base_uri": "https://localhost:8080/",
          "height": 410
        },
        "id": "MbOshUMvzwtI",
        "outputId": "abad1d15-7d72-4812-806e-ef54f9dd35cb"
      },
      "execution_count": 30,
      "outputs": [
        {
          "output_type": "display_data",
          "data": {
            "text/plain": [
              "<Figure size 600x400 with 1 Axes>"
            ],
            "image/png": "[encoded data removed]"
          },
          "metadata": {}
        }
      ]
    },
    {
      "cell_type": "code",
      "source": [
        "import warnings\n",
        "from sklearn.exceptions import DataConversionWarning\n",
        "\n",
        "# Ignore warnings\n",
        "warnings.filterwarnings(action='ignore', category=DataConversionWarning)\n",
        "\n",
        "# Logistic Regression with Cross-Validation\n",
        "logistic_reg_cv_scores = cross_val_score(logistic_reg, X_train_scaled, y_train, cv=5)\n",
        "print(\"Logistic Regression Cross-Validation Scores:\", logistic_reg_cv_scores)\n",
        "print(\"Mean Accuracy: {:.2f}\".format(logistic_reg_cv_scores.mean()))\n",
        "\n",
        "# Naive Bayes with Cross-Validation\n",
        "naive_bayes_cv_scores = cross_val_score(naive_bayes, X_train, y_train, cv=5)\n",
        "print(\"\\nNaive Bayes Cross-Validation Scores:\", naive_bayes_cv_scores)\n",
        "print(\"Mean Accuracy: {:.2f}\".format(naive_bayes_cv_scores.mean()))\n",
        "\n",
        "# K-Nearest Neighbors (KNN) with Cross-Validation\n",
        "knn_cv_scores = cross_val_score(knn, X_train_scaled, y_train, cv=5)\n",
        "print(\"\\nKNN Cross-Validation Scores:\", knn_cv_scores)\n",
        "print(\"Mean Accuracy: {:.2f}\".format(knn_cv_scores.mean()))\n",
        "\n",
        "# SVM with Cross-Validation\n",
        "svm_cv_scores = cross_val_score(svm_model, X_train_scaled, y_train, cv=5)\n",
        "print(\"\\nSVM Cross-Validation Scores:\", svm_cv_scores)\n",
        "print(\"Mean Accuracy: {:.2f}\".format(svm_cv_scores.mean()))\n",
        "\n",
        "# Decision Trees with Cross-Validation\n",
        "decision_tree_cv_scores = cross_val_score(decision_tree, X_train_scaled, y_train, cv=5)\n",
        "print(\"\\nDecision Trees Cross-Validation Scores:\", decision_tree_cv_scores)\n",
        "print(\"Mean Accuracy: {:.2f}\".format(decision_tree_cv_scores.mean()))\n"
      ],
      "metadata": {
        "colab": {
          "base_uri": "https://localhost:8080/"
        },
        "id": "1BzqmTeB0I4y",
        "outputId": "37f699a8-e82a-4ee4-c6d6-00e0251e75f0"
      },
      "execution_count": 32,
      "outputs": [
        {
          "output_type": "stream",
          "name": "stdout",
          "text": [
            "Logistic Regression Cross-Validation Scores: [0.92798913 0.9048913  0.93070652 0.93206522 0.92527174]\n",
            "Mean Accuracy: 0.92\n",
            "\n",
            "Naive Bayes Cross-Validation Scores: [0.82472826 0.79483696 0.81521739 0.83152174 0.82880435]\n",
            "Mean Accuracy: 0.82\n",
            "\n",
            "KNN Cross-Validation Scores: [0.9048913  0.89538043 0.91576087 0.90353261 0.90896739]\n",
            "Mean Accuracy: 0.91\n",
            "\n",
            "SVM Cross-Validation Scores: [0.93478261 0.9048913  0.94021739 0.9375     0.9361413 ]\n",
            "Mean Accuracy: 0.93\n",
            "\n",
            "Decision Trees Cross-Validation Scores: [0.90896739 0.90081522 0.91168478 0.92119565 0.91576087]\n",
            "Mean Accuracy: 0.91\n"
          ]
        }
      ]
    },
    {
      "cell_type": "code",
      "source": [
        "from sklearn.metrics import roc_auc_score\n",
        "\n",
        "# Calculate AUC-ROC for Logistic Regression\n",
        "logistic_reg_auc_roc = roc_auc_score(y_test, logistic_reg_pred)\n",
        "print(\"AUC-ROC for Logistic Regression:\", logistic_reg_auc_roc)\n",
        "\n",
        "# Calculate AUC-ROC for Naive Bayes\n",
        "naive_bayes_auc_roc = roc_auc_score(y_test, naive_bayes_pred)\n",
        "print(\"AUC-ROC for Naive Bayes:\", naive_bayes_auc_roc)\n",
        "\n",
        "# Calculate AUC-ROC for KNN\n",
        "knn_auc_roc = roc_auc_score(y_test, knn_pred)\n",
        "print(\"AUC-ROC for KNN:\", knn_auc_roc)\n",
        "\n",
        "# Calculate AUC-ROC for SVM\n",
        "svm_auc_roc = roc_auc_score(y_test, svm_pred)\n",
        "print(\"AUC-ROC for SVM:\", svm_auc_roc)\n",
        "\n",
        "# Calculate AUC-ROC for Decision Trees\n",
        "decision_tree_auc_roc = roc_auc_score(y_test, decision_tree_pred)\n",
        "print(\"AUC-ROC for Decision Trees:\", decision_tree_auc_roc)\n"
      ],
      "metadata": {
        "colab": {
          "base_uri": "https://localhost:8080/"
        },
        "id": "MODj_i-10JU3",
        "outputId": "4acac686-6b43-4533-c29f-1a4906ba957e"
      },
      "execution_count": 33,
      "outputs": [
        {
          "output_type": "stream",
          "name": "stdout",
          "text": [
            "AUC-ROC for Logistic Regression: 0.9136389975373026\n",
            "AUC-ROC for Naive Bayes: 0.83748370273794\n",
            "AUC-ROC for KNN: 0.8869549471244387\n",
            "AUC-ROC for SVM: 0.9292046936114733\n",
            "AUC-ROC for Decision Trees: 0.8963494132985658\n"
          ]
        }
      ]
    },
    {
      "cell_type": "code",
      "source": [
        "y_test.sum()"
      ],
      "metadata": {
        "colab": {
          "base_uri": "https://localhost:8080/"
        },
        "id": "izcaKf243DdW",
        "outputId": "b199b4bd-3220-49fc-802b-a550f49700ad"
      },
      "execution_count": 39,
      "outputs": [
        {
          "output_type": "execute_result",
          "data": {
            "text/plain": [
              "Class    390\n",
              "dtype: int64"
            ]
          },
          "metadata": {},
          "execution_count": 39
        }
      ]
    },
    {
      "cell_type": "code",
      "source": [
        "logistic_reg_pred.sum()"
      ],
      "metadata": {
        "colab": {
          "base_uri": "https://localhost:8080/"
        },
        "id": "_Eiu_d1W3nrF",
        "outputId": "de4a2b34-fe6a-44cf-ef88-3c535be0a151"
      },
      "execution_count": 38,
      "outputs": [
        {
          "output_type": "execute_result",
          "data": {
            "text/plain": [
              "366"
            ]
          },
          "metadata": {},
          "execution_count": 38
        }
      ]
    },
    {
      "cell_type": "code",
      "source": [
        "# Calculate False Positives for Logistic Regression\n",
        "false_positives_lr = ((y_test.values.ravel() == 0) & (logistic_reg_pred == 1)).sum()\n",
        "total_non_spam = (y_test.values.ravel() == 0).sum()\n",
        "false_positive_rate_lr = false_positives_lr / total_non_spam * 100\n",
        "print(\"False Positive Rate for Logistic Regression: {:.2f}%\".format(false_positive_rate_lr))\n",
        "\n",
        "# Calculate False Positives for Naive Bayes\n",
        "false_positives_nb = ((y_test.values.ravel() == 0) & (naive_bayes_pred == 1)).sum()\n",
        "false_positive_rate_nb = false_positives_nb / total_non_spam * 100\n",
        "print(\"False Positive Rate for Naive Bayes: {:.2f}%\".format(false_positive_rate_nb))\n",
        "\n",
        "# Calculate False Positives for KNN\n",
        "false_positives_knn = ((y_test.values.ravel() == 0) & (knn_pred == 1)).sum()\n",
        "false_positive_rate_knn = false_positives_knn / total_non_spam * 100\n",
        "print(\"False Positive Rate for KNN: {:.2f}%\".format(false_positive_rate_knn))\n",
        "\n",
        "# Calculate False Positives for SVM\n",
        "false_positives_svm = ((y_test.values.ravel() == 0) & (svm_pred == 1)).sum()\n",
        "false_positive_rate_svm = false_positives_svm / total_non_spam * 100\n",
        "print(\"False Positive Rate for SVM: {:.2f}%\".format(false_positive_rate_svm))\n",
        "\n",
        "# Calculate False Positives for Decision Trees\n",
        "false_positives_dt = ((y_test.values.ravel() == 0) & (decision_tree_pred == 1)).sum()\n",
        "false_positive_rate_dt = false_positives_dt / total_non_spam * 100\n",
        "print(\"False Positive Rate for Decision Trees: {:.2f}%\".format(false_positive_rate_dt))\n"
      ],
      "metadata": {
        "colab": {
          "base_uri": "https://localhost:8080/"
        },
        "id": "mMqWZipc4NzA",
        "outputId": "01a44264-a032-4c95-c14b-540c74c401eb"
      },
      "execution_count": 41,
      "outputs": [
        {
          "output_type": "stream",
          "name": "stdout",
          "text": [
            "False Positive Rate for Logistic Regression: 4.71%\n",
            "False Positive Rate for Naive Bayes: 27.12%\n",
            "False Positive Rate for KNN: 6.97%\n",
            "False Positive Rate for SVM: 3.39%\n",
            "False Positive Rate for Decision Trees: 7.91%\n"
          ]
        }
      ]
    },
    {
      "cell_type": "code",
      "source": [],
      "metadata": {
        "id": "ZXwAHWGC4OLH"
      },
      "execution_count": null,
      "outputs": []
    }
  ]
}